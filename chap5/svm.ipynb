{
 "metadata": {
  "language_info": {
   "codemirror_mode": {
    "name": "ipython",
    "version": 3
   },
   "file_extension": ".py",
   "mimetype": "text/x-python",
   "name": "python",
   "nbconvert_exporter": "python",
   "pygments_lexer": "ipython3",
   "version": "3.7.6"
  },
  "orig_nbformat": 2,
  "kernelspec": {
   "name": "python376jvsc74a57bd0e5eb88af8f20daec3b1891df52496b3914bc803b56aeed4bf970393481c02c33",
   "display_name": "Python 3.7.6 64-bit ('base': conda)"
  },
  "metadata": {
   "interpreter": {
    "hash": "31f2aee4e71d21fbe5cf8b01ff0e069b9275f58929596ceb00d14d90e3e16cd6"
   }
  }
 },
 "nbformat": 4,
 "nbformat_minor": 2,
 "cells": [
  {
   "source": [
    "# サポートベクトルマシン"
   ],
   "cell_type": "markdown",
   "metadata": {}
  },
  {
   "cell_type": "code",
   "execution_count": 1,
   "metadata": {},
   "outputs": [
    {
     "output_type": "stream",
     "name": "stdout",
     "text": [
      "Requirement already satisfied: cvxopt in /Users/shota/opt/miniconda3/lib/python3.7/site-packages (1.2.6)\n",
      "\u001b[33mWARNING: You are using pip version 21.1.1; however, version 21.1.2 is available.\n",
      "You should consider upgrading via the '/Users/shota/opt/miniconda3/bin/python -m pip install --upgrade pip' command.\u001b[0m\n"
     ]
    }
   ],
   "source": [
    "!pip3 install cvxopt\n",
    "import cvxopt\n",
    "import numpy as np\n",
    "import sys, os\n",
    "sys.path.append('../../codes')\n",
    "import data"
   ]
  },
  {
   "cell_type": "code",
   "execution_count": 14,
   "metadata": {},
   "outputs": [],
   "source": [
    "class SVM():\n",
    "    def __init__(self, X, Y):\n",
    "        self.X = X\n",
    "        self.Y = Y\n",
    "        self.n = X.shape[0]\n",
    "        self.d = X.shape[1]\n",
    "        self.spptThre = 0.1\n",
    "\n",
    "    def train(self):\n",
    "        P = np.matmul(self.Y, self.Y.T) * np.matmul(self.X, self.X.T)\n",
    "        P = cvxopt.matrix(P)\n",
    "        q = cvxopt.matrix(-np.ones(self.n))\n",
    "        G = cvxopt.matrix(np.diag(-np.ones(self.n)))\n",
    "        h = cvxopt.matrix(np.zeros(self.n))\n",
    "        A = cvxopt.matrix(self.Y.astype(float).T)\n",
    "        b = cvxopt.matrix(0.0)\n",
    "\n",
    "        sol = cvxopt.solvers.qp(P, q, G, h, A, b)\n",
    "        self.lamb = np.array(sol['x'])\n",
    "\n",
    "        self.spptInds = np.where(self.lamb > self.spptThre)[0]\n",
    "\n",
    "        self.w = np.matmul((self.lamb * self.Y).T, self.X).T\n",
    "        self.b = np.mean(self.Y[self.spptInds] - np.matmul(self.X[self.spptInds, :], self.w))\n",
    "    \n",
    "    def predict(self, x):\n",
    "        y = np.matmul(x, self.w) + self.b\n",
    "        return np.sign(y), y\n",
    "\n",
    "    def accuracy(self,X,Y):\n",
    "        predict,_ = self.predict(X)\n",
    "        return np.sum(predict==Y)/len(X)"
   ]
  },
  {
   "cell_type": "code",
   "execution_count": 15,
   "metadata": {},
   "outputs": [],
   "source": [
    "myData = data.classification(negLabel=-1.0,posLabel=1.0)\n",
    "myData.makeData(dataType=3)\n",
    "dtrNum = int(len(myData.X)*0.9)  # 学習データ数\n",
    "X_train = myData.X[:dtrNum]\n",
    "Y_train = myData.Y[:dtrNum]\n",
    "X_test = myData.X[dtrNum:]\n",
    "Y_test = myData.Y[dtrNum:]"
   ]
  },
  {
   "cell_type": "code",
   "execution_count": 17,
   "metadata": {},
   "outputs": [
    {
     "output_type": "stream",
     "name": "stdout",
     "text": [
      "     pcost       dcost       gap    pres   dres\n 0: -9.4498e+00 -1.6316e+01  3e+02  2e+01  2e+00\n 1: -1.0964e+01 -3.5323e+00  4e+01  2e+00  2e-01\n 2: -2.5892e+00 -1.1495e+00  2e+00  2e-01  2e-02\n 3: -1.0495e+00 -1.0609e+00  1e-01  5e-03  5e-04\n 4: -1.0372e+00 -1.0375e+00  3e-03  1e-04  1e-05\n 5: -1.0370e+00 -1.0370e+00  3e-05  1e-06  1e-07\n 6: -1.0370e+00 -1.0370e+00  3e-07  1e-08  1e-09\nOptimal solution found.\nparameter:  [[-0.95755549]\n [-1.07565979]] 0.10754636428460229\nacc:  1.0\n"
     ]
    }
   ],
   "source": [
    "model = SVM(X_train, Y_train)\n",
    "model.train()\n",
    "print(\"parameter: \", model.w, model.b)\n",
    "print(\"acc: \", model.accuracy(X_test, Y_test))"
   ]
  }
 ]
}